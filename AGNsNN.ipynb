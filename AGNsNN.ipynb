{
  "nbformat": 4,
  "nbformat_minor": 0,
  "metadata": {
    "accelerator": "GPU",
    "colab": {
      "name": "GRBsNN.ipynb",
      "provenance": [],
      "collapsed_sections": [],
      "toc_visible": true,
      "include_colab_link": true
    },
    "kernelspec": {
      "display_name": "Python 3",
      "name": "python3"
    }
  },
  "cells": [
    {
      "cell_type": "markdown",
      "metadata": {
        "id": "view-in-github",
        "colab_type": "text"
      },
      "source": [
        "<a href=\"https://colab.research.google.com/github/ray-wynne/ray-wynne/blob/main/AGNsNN.ipynb\" target=\"_parent\"><img src=\"https://colab.research.google.com/assets/colab-badge.svg\" alt=\"Open In Colab\"/></a>"
      ]
    },
    {
      "cell_type": "markdown",
      "metadata": {
        "id": "LYU_7caRan5r"
      },
      "source": [
        "## Import Necessary Libraries"
      ]
    },
    {
      "cell_type": "code",
      "metadata": {
        "colab": {
          "base_uri": "https://localhost:8080/"
        },
        "id": "Y63wKvmcgooy",
        "outputId": "d9b63b6b-dc90-4c21-d55f-f86edc5f99d6"
      },
      "source": [
        "# Using the PyTorch Framework\n",
        "!pip install livelossplot\n",
        "!pip install imblearn\n",
        "\n",
        "import torch\n",
        "from torch import nn\n",
        "from torch.nn import functional as F\n",
        "from torch.utils.data import DataLoader\n",
        "from torch.utils.data import Dataset\n",
        "\n",
        "from imblearn.over_sampling import SMOTE\n",
        "\n",
        "from livelossplot import PlotLosses\n",
        "\n",
        "from sklearn.model_selection import train_test_split\n",
        "\n",
        "import pandas\n",
        "\n",
        "from pandas import DataFrame as df\n",
        "\n",
        "from scipy.stats import pearsonr\n",
        "\n",
        "# For displaying images later\n",
        "import numpy as np\n",
        "import matplotlib.pyplot as plt\n",
        "\n",
        "from sklearn.decomposition import PCA\n",
        "\n",
        "torch.manual_seed(0)"
      ],
      "execution_count": null,
      "outputs": [
        {
          "output_type": "stream",
          "text": [
            "Collecting livelossplot\n",
            "  Downloading https://files.pythonhosted.org/packages/57/26/840be243088ce142d61c60273408ec09fa1de4534056a56d6e91b73f0cae/livelossplot-0.5.4-py3-none-any.whl\n",
            "Requirement already satisfied: matplotlib in /usr/local/lib/python3.7/dist-packages (from livelossplot) (3.2.2)\n",
            "Requirement already satisfied: ipython in /usr/local/lib/python3.7/dist-packages (from livelossplot) (5.5.0)\n",
            "Requirement already satisfied: bokeh in /usr/local/lib/python3.7/dist-packages (from livelossplot) (2.3.1)\n",
            "Requirement already satisfied: kiwisolver>=1.0.1 in /usr/local/lib/python3.7/dist-packages (from matplotlib->livelossplot) (1.3.1)\n",
            "Requirement already satisfied: python-dateutil>=2.1 in /usr/local/lib/python3.7/dist-packages (from matplotlib->livelossplot) (2.8.1)\n",
            "Requirement already satisfied: numpy>=1.11 in /usr/local/lib/python3.7/dist-packages (from matplotlib->livelossplot) (1.19.5)\n",
            "Requirement already satisfied: pyparsing!=2.0.4,!=2.1.2,!=2.1.6,>=2.0.1 in /usr/local/lib/python3.7/dist-packages (from matplotlib->livelossplot) (2.4.7)\n",
            "Requirement already satisfied: cycler>=0.10 in /usr/local/lib/python3.7/dist-packages (from matplotlib->livelossplot) (0.10.0)\n",
            "Requirement already satisfied: setuptools>=18.5 in /usr/local/lib/python3.7/dist-packages (from ipython->livelossplot) (56.0.0)\n",
            "Requirement already satisfied: simplegeneric>0.8 in /usr/local/lib/python3.7/dist-packages (from ipython->livelossplot) (0.8.1)\n",
            "Requirement already satisfied: prompt-toolkit<2.0.0,>=1.0.4 in /usr/local/lib/python3.7/dist-packages (from ipython->livelossplot) (1.0.18)\n",
            "Requirement already satisfied: pickleshare in /usr/local/lib/python3.7/dist-packages (from ipython->livelossplot) (0.7.5)\n",
            "Requirement already satisfied: pexpect; sys_platform != \"win32\" in /usr/local/lib/python3.7/dist-packages (from ipython->livelossplot) (4.8.0)\n",
            "Requirement already satisfied: traitlets>=4.2 in /usr/local/lib/python3.7/dist-packages (from ipython->livelossplot) (5.0.5)\n",
            "Requirement already satisfied: decorator in /usr/local/lib/python3.7/dist-packages (from ipython->livelossplot) (4.4.2)\n",
            "Requirement already satisfied: pygments in /usr/local/lib/python3.7/dist-packages (from ipython->livelossplot) (2.6.1)\n",
            "Requirement already satisfied: Jinja2>=2.7 in /usr/local/lib/python3.7/dist-packages (from bokeh->livelossplot) (2.11.3)\n",
            "Requirement already satisfied: tornado>=5.1 in /usr/local/lib/python3.7/dist-packages (from bokeh->livelossplot) (5.1.1)\n",
            "Requirement already satisfied: pillow>=7.1.0 in /usr/local/lib/python3.7/dist-packages (from bokeh->livelossplot) (7.1.2)\n",
            "Requirement already satisfied: packaging>=16.8 in /usr/local/lib/python3.7/dist-packages (from bokeh->livelossplot) (20.9)\n",
            "Requirement already satisfied: PyYAML>=3.10 in /usr/local/lib/python3.7/dist-packages (from bokeh->livelossplot) (3.13)\n",
            "Requirement already satisfied: typing-extensions>=3.7.4 in /usr/local/lib/python3.7/dist-packages (from bokeh->livelossplot) (3.7.4.3)\n",
            "Requirement already satisfied: six>=1.5 in /usr/local/lib/python3.7/dist-packages (from python-dateutil>=2.1->matplotlib->livelossplot) (1.15.0)\n",
            "Requirement already satisfied: wcwidth in /usr/local/lib/python3.7/dist-packages (from prompt-toolkit<2.0.0,>=1.0.4->ipython->livelossplot) (0.2.5)\n",
            "Requirement already satisfied: ptyprocess>=0.5 in /usr/local/lib/python3.7/dist-packages (from pexpect; sys_platform != \"win32\"->ipython->livelossplot) (0.7.0)\n",
            "Requirement already satisfied: ipython-genutils in /usr/local/lib/python3.7/dist-packages (from traitlets>=4.2->ipython->livelossplot) (0.2.0)\n",
            "Requirement already satisfied: MarkupSafe>=0.23 in /usr/local/lib/python3.7/dist-packages (from Jinja2>=2.7->bokeh->livelossplot) (1.1.1)\n",
            "Installing collected packages: livelossplot\n",
            "Successfully installed livelossplot-0.5.4\n",
            "Requirement already satisfied: imblearn in /usr/local/lib/python3.7/dist-packages (0.0)\n",
            "Requirement already satisfied: imbalanced-learn in /usr/local/lib/python3.7/dist-packages (from imblearn) (0.4.3)\n",
            "Requirement already satisfied: scikit-learn>=0.20 in /usr/local/lib/python3.7/dist-packages (from imbalanced-learn->imblearn) (0.22.2.post1)\n",
            "Requirement already satisfied: scipy>=0.13.3 in /usr/local/lib/python3.7/dist-packages (from imbalanced-learn->imblearn) (1.4.1)\n",
            "Requirement already satisfied: numpy>=1.8.2 in /usr/local/lib/python3.7/dist-packages (from imbalanced-learn->imblearn) (1.19.5)\n",
            "Requirement already satisfied: joblib>=0.11 in /usr/local/lib/python3.7/dist-packages (from scikit-learn>=0.20->imbalanced-learn->imblearn) (1.0.1)\n"
          ],
          "name": "stdout"
        },
        {
          "output_type": "execute_result",
          "data": {
            "text/plain": [
              "<torch._C.Generator at 0x7f250acf5c70>"
            ]
          },
          "metadata": {
            "tags": []
          },
          "execution_count": 3
        }
      ]
    },
    {
      "cell_type": "code",
      "metadata": {
        "id": "1KD98RcX-rjs",
        "colab": {
          "base_uri": "https://localhost:8080/"
        },
        "outputId": "13073130-ad4d-41b4-dfd0-08387a3f71ff"
      },
      "source": [
        "# Download data\n",
        "params = pandas.read_csv('Fulldata_woSLOB_&_Stripes.csv')\n",
        "# params = pandas.read_csv('AGN_Set_NoInf.csv')\n",
        "\n",
        "# plt.hist(params['z'])\n",
        "# plt.show()\n",
        "\n",
        "# Remove unnecesary columns\n",
        "params.drop(['Unnamed: 0', 'X.name', 'LogRedshift'], axis=1, inplace=True)\n",
        "\n",
        "keep = [\"z\", \"LogFlux1.100m\", \"LogEnergy_Flux100\", \"LogSignificance\", \"Frac_Variability\", \"LogHighest_Energy\", \"Lognu\",\"Lognufnu\", \"PL_Index\", \"LogPivot_Energy\", \"LP_Index\", \"LP_beta\",\"w4\", \"Gaia_G_Magnitude\", \"LogVariability_Index\"]\n",
        "\n",
        "# params['Flux1.100m'] = np.exp(params[\"LogFlux1.100m\"])\n",
        "# params['Energy_Flux100'] = np.exp(params[\"LogEnergy_Flux100\"])\n",
        "# # params['Significance'] = np.exp(params[\"LogSignificance\"])\n",
        "# params['Highest_Energy'] = np.exp(params[\"LogHighest_Energy\"])\n",
        "# params['nu'] = np.exp(params[\"Lognu\"])\n",
        "# params['nufnu'] = np.exp(params[\"Lognufnu\"])\n",
        "# params['Pivot_Energy'] = np.exp(params[\"LogPivot_Energy\"])\n",
        "# params['Variability_Index'] = np.exp(params[\"LogVariability_Index\"])\n",
        "\n",
        "# keep = [\"z\", \"Flux1.100m\", \"Energy_Flux100\", \"Frac_Variability\", \"Highest_Energy\", \"nu\",\"nufnu\", \"PL_Index\", \"Pivot_Energy\", \"LP_Index\", \"LP_beta\",\"w4\", \"Gaia_G_Magnitude\", \"Variability_Index\"]\n",
        "\n",
        "params_keep = params[keep]\n",
        "\n",
        "zs_keep = params_keep['z']\n",
        "\n",
        "z_binary = [1 if z < 1 else 0 for z in zs_keep]\n",
        "\n",
        "# sum(z_binary)\n",
        "\n",
        "ros = SMOTE(sampling_strategy='minority')\n",
        "params, zs = ros.fit_resample(params_keep, z_binary)\n",
        "\n",
        "zs = params[:, 0]\n",
        "\n",
        "params = pandas.DataFrame(params[:, 1:])\n",
        "pca = PCA(n_components=8)\n",
        "pca.fit(params)\n",
        "\n",
        "columns = ['pca_%i' % i for i in range(8)]\n",
        "df_pca = df(pca.transform(params), columns=columns, index=params.index)\n",
        "\n",
        "df_pca['z'] = zs\n",
        "\n",
        "train, val, test = np.split(df_pca.sample(frac=1), [int(.6*len(df_pca)), int(.8*len(df_pca))])\n",
        "\n",
        "train_labels, val_labels, test_labels = train.pop('z'), val.pop('z'), test.pop('z')\n",
        "train, val, test = (train-df_pca.mean())/df_pca.std(), (val-df_pca.mean())/df_pca.std(), (test-df_pca.mean())/df_pca.std()\n",
        "\n",
        "train.drop('z', 1, inplace=True), val.drop('z', 1, inplace=True), test.drop('z', 1, inplace=True)\n",
        "\n",
        "X_train, z_train = np.array(train).astype('float32'), np.array(train_labels).astype('float32')\n",
        "X_val, z_val = np.array(val).astype('float32'), np.array(val_labels).astype('float32')\n",
        "X_test, z_test   = np.array(test).astype('float32'), np.array(test_labels).astype('float32')\n"
      ],
      "execution_count": null,
      "outputs": [
        {
          "output_type": "stream",
          "text": [
            "/usr/local/lib/python3.7/dist-packages/sklearn/utils/deprecation.py:87: FutureWarning: Function safe_indexing is deprecated; safe_indexing is deprecated in version 0.22 and will be removed in version 0.24.\n",
            "  warnings.warn(msg, category=FutureWarning)\n"
          ],
          "name": "stderr"
        }
      ]
    },
    {
      "cell_type": "code",
      "metadata": {
        "id": "h0wMtzGldXsc"
      },
      "source": [
        "# # # Download data\n",
        "# params = pandas.read_csv('Fulldata_woSLOB_&_Stripes.csv')\n",
        "# # params = pandas.read_csv('AGN_Set_NoInf.csv')\n",
        "\n",
        "# # Remove unnecesary columns\n",
        "# params.drop(['Unnamed: 0', 'X.name', 'LogRedshift'], axis=1, inplace=True)\n",
        "\n",
        "# keep = [\"z\", \"LogFlux1.100m\", \"LogEnergy_Flux100\",\"Frac_Variability\", \"LogHighest_Energy\", \"Lognu\",\"Lognufnu\", \"PL_Index\", \"LogPivot_Energy\", \"LP_Index\", \"LP_beta\",\"w4\", \"Gaia_G_Magnitude\", \"LogVariability_Index\"]\n",
        "\n",
        "# params['Flux1.100m'] = np.exp(params[\"LogFlux1.100m\"])\n",
        "# params['Energy_Flux100'] = np.exp(params[\"LogEnergy_Flux100\"])\n",
        "# # params['Significance'] = np.exp(params[\"LogSignificance\"])\n",
        "# params['Highest_Energy'] = np.exp(params[\"LogHighest_Energy\"])\n",
        "# params['nu'] = np.exp(params[\"Lognu\"])\n",
        "# params['nufnu'] = np.exp(params[\"Lognufnu\"])\n",
        "# params['Pivot_Energy'] = np.exp(params[\"LogPivot_Energy\"])\n",
        "# params['Variability_Index'] = np.exp(params[\"LogVariability_Index\"])\n",
        "\n",
        "# keep = [\"z\", \"Flux1.100m\", \"Energy_Flux100\", \"Frac_Variability\", \"Highest_Energy\", \"nu\",\"nufnu\", \"PL_Index\", \"Pivot_Energy\", \"LP_Index\", \"LP_beta\",\"w4\", \"Gaia_G_Magnitude\", \"Variability_Index\"]\n",
        "\n",
        "# params = params[keep]\n",
        "\n",
        "# # Create training/validation/test\n",
        "# train, val, test = np.split(params.sample(frac=1), [int(.6*len(params)), int(.8*len(params))])\n",
        "\n",
        "# params.drop('z', axis=1, inplace=True)\n",
        "\n",
        "\n",
        "# # # Get labels\n",
        "# train_labels, val_labels, test_labels = train.pop('z'), val.pop('z'), test.pop('z')\n",
        "# train, val, test = (train-params.mean())/params.std(), (val-params.mean())/params.std(), (test-params.mean())/params.std()\n",
        "\n",
        "\n",
        "# train, train_labels = np.array(train).astype('float32'), np.array(train_labels).astype('float32')\n",
        "# val, val_labels = np.array(val).astype('float32'), np.array(val_labels).astype('float32')\n",
        "# test, test_labels   = np.array(test).astype('float32'), np.array(test_labels).astype('float32')"
      ],
      "execution_count": null,
      "outputs": []
    },
    {
      "cell_type": "code",
      "metadata": {
        "id": "2L6rj-KRhm5U",
        "colab": {
          "base_uri": "https://localhost:8080/"
        },
        "outputId": "cebc5638-5ffc-45eb-f05d-a9258f557962"
      },
      "source": [
        "# # Display dataset information\n",
        "print(\"Downloaded the following data:\")\n",
        "print(f\"train_data has shape {X_train.shape}, containing {X_train.shape[0]} images represented as ({X_train.shape[1]}, 1) vectors\")\n",
        "print(f\"val_data has shape {X_val.shape}, containing {X_val.shape[0]} images represented as ({X_val.shape[1]}, 1) vectors\")\n",
        "print(f\"test_data has shape {X_test.shape}, containing {X_test.shape[0]} images represented as ({X_test.shape[1]}, 1) vectors\")"
      ],
      "execution_count": null,
      "outputs": [
        {
          "output_type": "stream",
          "text": [
            "Downloaded the following data:\n",
            "train_data has shape (585, 8), containing 585 images represented as (8, 1) vectors\n",
            "val_data has shape (195, 8), containing 195 images represented as (8, 1) vectors\n",
            "test_data has shape (196, 8), containing 196 images represented as (8, 1) vectors\n"
          ],
          "name": "stdout"
        }
      ]
    },
    {
      "cell_type": "code",
      "metadata": {
        "id": "53j1n5edeh8A"
      },
      "source": [
        "# We'll create a Dataset class to use with PyTorch's Built-In Dataloaders\n",
        "class GRBDataset(Dataset):\n",
        "    '''\n",
        "    A custom dataset class to use with PyTorch's built-in dataloaders.\n",
        "    This will make feeding images to our models much easier downstream.\n",
        "\n",
        "    data: np.arrays downloaded from Keras' databases\n",
        "    vectorize: if True, outputed image data will be (784,)\n",
        "                   if False, outputed image data will be (28,28)\n",
        "    '''\n",
        "    def __init__(self, data, labels):\n",
        "        self.data = data\n",
        "        self.labels = labels\n",
        "\n",
        "    def __getitem__(self, idx):\n",
        "        grb_data = self.data[idx, :]\n",
        "        grb_label = self.labels[idx]\n",
        "\n",
        "        return grb_data, grb_label\n",
        "\n",
        "    def __len__(self):\n",
        "        return self.data.shape[0]\n",
        "\n",
        "# Create MNISTDataset objects for each of our train/val/test sets\n",
        "train_dataset = GRBDataset(X_train, z_train)\n",
        "val_dataset   = GRBDataset(X_val, z_val)\n",
        "test_dataset  = GRBDataset(X_test, z_test)\n",
        "\n",
        "# Create a PyTorch dataloader for each train/val/test set\n",
        "# We'll use a batch size of 256 for the rest of this assignment.\n",
        "train_loader = DataLoader(train_dataset, batch_size=2)\n",
        "val_loader = DataLoader(val_dataset, batch_size=2)\n",
        "test_loader = DataLoader(test_dataset, batch_size=2)\n",
        "\n",
        "\n",
        "# Display dataloader info\n",
        "# print(\"Created the following Dataloaders:\")\n",
        "# print(f\"train_loader has {len(train_loader)} batches of training data\")\n",
        "# print(f\"val_loader has {len(val_loader)} batches of validation data\")\n",
        "# print(f\"test_loader has {len(test_loader)} batches of testing data\")"
      ],
      "execution_count": null,
      "outputs": []
    },
    {
      "cell_type": "markdown",
      "metadata": {
        "id": "eQGlJLxI__4A"
      },
      "source": [
        "#  Create Training and Testing Functions\n",
        "\n",
        "In this section, we'll be looking at the MNIST problem where our networks will take an image of any digit from $0-9$ as input and try to predict that digit. Note that in general, an image is described as a two-dimensional array of pixels. Here, the image is a <a href=\"https://en.wikipedia.org/wiki/Grayscale\">grayscale</a> image, so each pixel is represented by only one integer value, in the range $0$ to $255$ (compared to RGB images where each pixel is represented by three integer values, encoding intensity levels in red, green, and blue color channels).\n",
        "\n",
        "We'll use out-of-the-box neural network implementations using PyTorch. State-of-the-art systems have error rates of less than 0.5% percent on this data set (see <a href=\"http://rodrigob.github.io/are_we_there_yet/build/classification_datasets_results.html#4d4e495354\">this list</a>).  We'll be happy with an error rate less than 2% since we don't have all year...\n"
      ]
    },
    {
      "cell_type": "markdown",
      "metadata": {
        "id": "FiNBNdpCVyJX"
      },
      "source": [
        "We'll first implement the functions to `train` and `test` our classifiers. We've written most of the functions for you. Your job is to fill in the calculation of the loss.\n",
        "\n",
        "As a reminder: For our loss function we will be using categorical cross-entropy loss between the output of our  model and our ground truth labels.\n",
        "\n",
        "Note that:\n",
        "* Use a built-in module instead of implementing the loss yourself!\n",
        "* We are expecting a one-line solution in each case. Don't overthink this!\n",
        "* The line you fill in for both `train()` and `test()` should be the same."
      ]
    },
    {
      "cell_type": "code",
      "metadata": {
        "id": "Xxy5Y0sbaNUw"
      },
      "source": [
        "# EDIT ME!\n",
        "\n",
        "def trainer(model, device, train_loader, optimizer, val_loader=None):\n",
        "    '''\n",
        "    Function for training our networks. One call to train() performs a single\n",
        "    epoch for training.\n",
        "\n",
        "    model: an instance of our model, in this assignment, this will be your autoencoder\n",
        "\n",
        "    device: either \"cpu\" or \"cuda\", depending on if you're running with GPU support\n",
        "\n",
        "    train_loader: the dataloader for the training set\n",
        "\n",
        "    optimizer: optimizer used for training (the optimizer implements SGD)\n",
        "\n",
        "    val_loader: (optional) validation set to include \n",
        "    '''\n",
        "\n",
        "    # Set the model to training mode.\n",
        "    model.train()\n",
        "\n",
        "    #we'll keep adding the loss of each batch to total_loss, so we can calculate\n",
        "    #the average loss at the end of the epoch.\n",
        "    total_loss = 0\n",
        "    total_items = 0\n",
        "\n",
        "    targ = []\n",
        "    pred = []\n",
        "\n",
        "    # We'll iterate through each batch. One call of train() trains for 1 epoch.\n",
        "    # batch_idx: an integer representing which batch number we're on\n",
        "    # input: a pytorch tensor representing a batch of input images.\n",
        "    for batch_idx, (input,target) in enumerate(train_loader):\n",
        "        # This line sends data to GPU if you're using a GPU\n",
        "        targ = targ + [float(target[0])]\n",
        "\n",
        "        input = input.to(device)\n",
        "        target = target.type(torch.FloatTensor).to(device)\n",
        "\n",
        "        # initialze the optimizer (the optimizer implements SGD)\n",
        "        optimizer.zero_grad()\n",
        "\n",
        "        # feed our input through the network\n",
        "        output = model.forward(input)\n",
        "\n",
        "        pred = pred + [float(output[0][0])]\n",
        "\n",
        "        ## TODO: YOUR CODE HERE\n",
        "\n",
        "        loss_function = nn.MSELoss()\n",
        "        loss_value = loss_function(output[0], target)\n",
        "        \n",
        "        ## END YOUR CODE\n",
        "\n",
        "        # Perform backprop\n",
        "        loss_value.backward()\n",
        "        optimizer.step()\n",
        "\n",
        "        #accumulate loss to later calculate the average\n",
        "        total_loss += loss_value\n",
        "        total_items += input.shape[0]\n",
        "\n",
        "    accuracy = pearsonr(targ, pred)[0]\n",
        "\n",
        "\n",
        "    return total_loss.item()/len(train_loader), accuracy.item()\n"
      ],
      "execution_count": null,
      "outputs": []
    },
    {
      "cell_type": "code",
      "metadata": {
        "id": "P6fyO5GPaPmo"
      },
      "source": [
        "# EDIT ME!       \n",
        "def tester(model, device, test_loader, testing=False):\n",
        "    '''\n",
        "    Function for testing our models. One call to test() runs through every\n",
        "    datapoint in our dataset once.\n",
        "\n",
        "    model: an instance of our model, in this assignment, this will be your autoencoder\n",
        "\n",
        "    device: either \"cpu\" or \"cuda:0\", depending on if you're running with GPU support\n",
        "\n",
        "    test_loader: the dataloader for the data to run the model on\n",
        "    '''\n",
        "    # set model to evaluation mode\n",
        "    model.eval()\n",
        "\n",
        "    # we'll keep track of total loss to calculate the average later\n",
        "    test_loss = 0\n",
        "    total_items = 0\n",
        "\n",
        "    targ = []\n",
        "    pred = []\n",
        "\n",
        "    #don't perform backprop if testing\n",
        "    with torch.no_grad():\n",
        "        # iterate thorugh each test image\n",
        "        for (input,target) in test_loader:\n",
        "\n",
        "            targ = targ + [float(target[0])]\n",
        "\n",
        "            # send input image to GPU if using GPU\n",
        "            input = input.to(device)\n",
        "            target = target.type(torch.FloatTensor).to(device)\n",
        "\n",
        "            # run input through our model\n",
        "            output = model(input)\n",
        "            pred = pred + [float(output[0][0])]\n",
        "\n",
        "            ## TODO: YOUR CODE HERE\n",
        "\n",
        "            loss_function = nn.MSELoss()\n",
        "            loss_value = loss_function(output[0], target)\n",
        "            \n",
        "            ## END YOUR CODE\n",
        "\n",
        "            # Accumulate for accuracy\n",
        "            test_loss += loss_value\n",
        "            total_items += input.shape[0]\n",
        "\n",
        "    # calculate average loss/accuracy per batch\n",
        "    test_loss /= len(test_loader)\n",
        "    accuracy = pearsonr(targ, pred)[0]\n",
        "\n",
        "    # if testing:\n",
        "      # print(targ)\n",
        "      # print(pred)\n",
        "\n",
        "    return test_loss.item(), accuracy.item()"
      ],
      "execution_count": null,
      "outputs": []
    },
    {
      "cell_type": "markdown",
      "metadata": {
        "id": "KtTfKRftlDWa"
      },
      "source": [
        "## Feed-Forward Regression Model"
      ]
    },
    {
      "cell_type": "code",
      "metadata": {
        "colab": {
          "base_uri": "https://localhost:8080/",
          "height": 721
        },
        "id": "xxm6Z7ntpuiO",
        "outputId": "65c5fd14-41bd-4ddd-a97f-d51a31cb36b4"
      },
      "source": [
        "# EDIT ME!\n",
        "# define the layers of our model\n",
        "layers = [  \n",
        "            nn.Linear(8, 5),\n",
        "            nn.SELU(),\n",
        "            nn.Linear(5, 5),\n",
        "            nn.Dropout(p=0.05),\n",
        "            nn.SELU(),\n",
        "            nn.Linear(5, 3),\n",
        "            # nn.Dropout(p=0.01),\n",
        "            nn.SELU(),\n",
        "            nn.Linear(3, 1),\n",
        "            # nn.Dropout(p=0.05),\n",
        "            # nn.SELU(),\n",
        "            # nn.Linear(2, 1),\n",
        "            # nn.SELU()\n",
        "]\n",
        "\n",
        "# set number of epochs to train for\n",
        "epochs = 100 ## Change me in problem 1.3\n",
        "\n",
        "# check if running on CPU or GPU\n",
        "device = torch.device(\"cuda\" if torch.cuda.is_available() else \"cpu\")\n",
        "\n",
        "# initialize a fully-connected classifier\n",
        "fc_model = nn.Sequential(*layers).to(device)\n",
        "\n",
        "# initialize our optimizer. We'll use Adam\n",
        "optimizer = torch.optim.Adam(fc_model.parameters(), lr=0.001, weight_decay=0.01)\n",
        "\n",
        "plotlosses = PlotLosses()\n",
        "\n",
        "# train your  classifier\n",
        "for epoch in range(1, epochs+1):\n",
        "    train_loss, train_acc = trainer(fc_model, device, train_loader, optimizer)\n",
        "    val_loss, val_acc = tester(fc_model, device, val_loader)\n",
        "    # print('Train Epoch: {:02d} \\tTraining Loss: {:.6f} \\tTraining Acc: {:.6f}\\n \\t\\t\\tValidation Loss: {:.6f} \\tValidation Acc: {:.6f}\\n'.format(epoch, train_loss, train_acc, val_loss, val_acc))\n",
        "    plotlosses.update({'acc': train_acc, 'val_acc': val_acc, 'loss': train_loss, 'val_loss': val_loss})\n",
        "    plotlosses.send()  # draw, update logs, etc\n",
        "    # print(\"Training Loss:\", train_loss, \"Training Accuracy:\", train_acc)\n",
        "\n",
        "# test your deep autoencoder\n",
        "test_loss, test_acc = tester(fc_model, device, test_loader, True)\n",
        "print('\\n\\t\\t\\tTest Loss: {:.6f} \\t Test Accuracy: {:.6f}'.format(test_loss, test_acc) )"
      ],
      "execution_count": null,
      "outputs": [
        {
          "output_type": "display_data",
          "data": {
            "image/png": "[encoded data removed]",
            "text/plain": [
              "<Figure size 864x576 with 2 Axes>"
            ]
          },
          "metadata": {
            "tags": [],
            "needs_background": "light"
          }
        },
        {
          "output_type": "stream",
          "text": [
            "Accuracy\n",
            "\ttraining         \t (min:   -0.092, max:    0.642, cur:    0.629)\n",
            "\tvalidation       \t (min:    0.332, max:    0.674, cur:    0.664)\n",
            "Loss\n",
            "\ttraining         \t (min:    0.365, max:    1.480, cur:    0.368)\n",
            "\tvalidation       \t (min:    0.334, max:    0.421, cur:    0.337)\n",
            "\n",
            "\t\t\tTest Loss: 0.394403 \t Test Accuracy: 0.724879\n"
          ],
          "name": "stdout"
        }
      ]
    },
    {
      "cell_type": "code",
      "metadata": {
        "id": "PAd949i4OROx"
      },
      "source": [
        ""
      ],
      "execution_count": null,
      "outputs": []
    }
  ]
}